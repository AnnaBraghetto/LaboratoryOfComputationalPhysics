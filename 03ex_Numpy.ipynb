{
 "cells": [
  {
   "cell_type": "code",
   "execution_count": 2,
   "metadata": {},
   "outputs": [],
   "source": [
    "import numpy as np\n",
    "import matplotlib.pyplot as plt"
   ]
  },
  {
   "cell_type": "markdown",
   "metadata": {},
   "source": [
    "### Numpy basics"
   ]
  },
  {
   "cell_type": "markdown",
   "metadata": {},
   "source": [
    "1\\. Find the row, column and overall means for the following matrix:\n",
    "\n",
    "```python\n",
    "m = np.arange(12).reshape((3,4))\n",
    "```"
   ]
  },
  {
   "cell_type": "code",
   "execution_count": 3,
   "metadata": {},
   "outputs": [
    {
     "name": "stdout",
     "output_type": "stream",
     "text": [
      "[[ 0  1  2  3]\n",
      " [ 4  5  6  7]\n",
      " [ 8  9 10 11]]\n",
      "Row 0 mean: 1.5\n",
      "Row 1 mean: 5.5\n",
      "Row 2 mean: 9.5\n",
      "Column 0 mean: 4.0\n",
      "Column 1 mean: 5.0\n",
      "Column 2 mean: 6.0\n",
      "Column 3 mean: 7.0\n",
      "Overall mean: 5.5\n"
     ]
    }
   ],
   "source": [
    "m = np.arange(12).reshape((3,4))\n",
    "print(m)\n",
    "\n",
    "#row means\n",
    "for i in range(m.shape[0]):\n",
    "    print (\"Row\", i, \"mean:\", np.mean(m[i,:]))\n",
    "#column means\n",
    "for i in range(m.shape[1]):\n",
    "    print (\"Column\", i, \"mean:\", np.mean(m[:,i]))\n",
    "#pverall mean\n",
    "print(\"Overall mean:\",np.mean(m))"
   ]
  },
  {
   "cell_type": "markdown",
   "metadata": {},
   "source": [
    "2\\. Find the outer product of the following two vecotrs\n",
    "\n",
    "```python\n",
    "u = np.array([1,3,5,7])\n",
    "v = np.array([2,4,6,8])\n",
    "```\n",
    "\n",
    "Do this in the following ways:\n",
    "\n",
    "   * Using the function outer in numpy\n",
    "   * Using a nested for loop or list comprehension\n",
    "   * Using numpy broadcasting operatoins\n"
   ]
  },
  {
   "cell_type": "code",
   "execution_count": 4,
   "metadata": {},
   "outputs": [
    {
     "name": "stdout",
     "output_type": "stream",
     "text": [
      "Numpy outer function: \n",
      " [[ 2  4  6  8]\n",
      " [ 6 12 18 24]\n",
      " [10 20 30 40]\n",
      " [14 28 42 56]]\n",
      "List comprehension: \n",
      " [[ 2  4  6  8]\n",
      " [ 6 12 18 24]\n",
      " [10 20 30 40]\n",
      " [14 28 42 56]]\n",
      "Numpy broadcasting operations: \n",
      " [[ 2  4  6  8]\n",
      " [ 6 12 18 24]\n",
      " [10 20 30 40]\n",
      " [14 28 42 56]]\n"
     ]
    }
   ],
   "source": [
    "u = np.array([1,3,5,7])\n",
    "v = np.array([2,4,6,8])\n",
    "\n",
    "#outer product with the function outer in numpy\n",
    "print('Numpy outer function:', '\\n', np.outer(u,v))\n",
    "\n",
    "#outer product a nested for loop or list comprehension\n",
    "print('List comprehension:', '\\n', np.array([u[i]*v for i in range(v.shape[0])]))\n",
    "\n",
    "#outer product with numpy broadcasting operations\n",
    "print('Numpy broadcasting operations:', '\\n', u.reshape(4,1)*(v.reshape(1,4)))"
   ]
  },
  {
   "cell_type": "markdown",
   "metadata": {},
   "source": [
    "3\\. Create a 10 by 6 matrix of random uniform numbers. Set all rows with any entry less than 0.1 to be zero\n",
    "\n",
    "Hint: Use the following numpy functions - np.random.random, np.any as well as Boolean indexing and the axis argument."
   ]
  },
  {
   "cell_type": "code",
   "execution_count": 25,
   "metadata": {},
   "outputs": [
    {
     "name": "stdout",
     "output_type": "stream",
     "text": [
      "[[0.69646919 0.28613933 0.22685145 0.55131477 0.71946897 0.42310646]\n",
      " [0.9807642  0.68482974 0.4809319  0.39211752 0.34317802 0.72904971]\n",
      " [0.         0.         0.         0.         0.         0.        ]\n",
      " [0.53155137 0.53182759 0.63440096 0.84943179 0.72445532 0.61102351]\n",
      " [0.72244338 0.32295891 0.36178866 0.22826323 0.29371405 0.63097612]\n",
      " [0.         0.         0.         0.         0.         0.        ]\n",
      " [0.42635131 0.89338916 0.94416002 0.50183668 0.62395295 0.1156184 ]\n",
      " [0.31728548 0.41482621 0.86630916 0.25045537 0.48303426 0.98555979]\n",
      " [0.51948512 0.61289453 0.12062867 0.8263408  0.60306013 0.54506801]\n",
      " [0.34276383 0.30412079 0.41702221 0.68130077 0.87545684 0.51042234]]\n"
     ]
    }
   ],
   "source": [
    "np.random.seed(123)\n",
    "m=np.random.random((10,6))\n",
    "mask=(m<0.1)\n",
    "zero=np.zeros(6)\n",
    "for i in range(10):\n",
    "    if np.any(mask,axis=1)[i]==True:\n",
    "        m[i,:]=zero\n",
    "print(m)"
   ]
  },
  {
   "cell_type": "markdown",
   "metadata": {},
   "source": [
    "4\\. Use np.linspace to create an array of 100 numbers between 0 and 2π (includsive).\n",
    "\n",
    "  * Extract every 10th element using slice notation\n",
    "  * Reverse the array using slice notation\n",
    "  * Extract elements where the absolute difference between the sine and cosine functions evaluated at that element is less than 0.1\n",
    "  * Make a plot showing the sin and cos functions and indicate where they are close"
   ]
  },
  {
   "cell_type": "code",
   "execution_count": 39,
   "metadata": {},
   "outputs": [
    {
     "name": "stdout",
     "output_type": "stream",
     "text": [
      "[0.57119866 1.20586385 1.84052903 2.47519421 3.10985939 3.74452458\n",
      " 4.37918976 5.01385494 5.64852012 6.28318531]\n",
      "[6.28318531 6.21971879 6.15625227 6.09278575 6.02931923 5.96585272\n",
      " 5.9023862  5.83891968 5.77545316 5.71198664 5.64852012 5.58505361\n",
      " 5.52158709 5.45812057 5.39465405 5.33118753 5.26772102 5.2042545\n",
      " 5.14078798 5.07732146 5.01385494 4.95038842 4.88692191 4.82345539\n",
      " 4.75998887 4.69652235 4.63305583 4.56958931 4.5061228  4.44265628\n",
      " 4.37918976 4.31572324 4.25225672 4.1887902  4.12532369 4.06185717\n",
      " 3.99839065 3.93492413 3.87145761 3.8079911  3.74452458 3.68105806\n",
      " 3.61759154 3.55412502 3.4906585  3.42719199 3.36372547 3.30025895\n",
      " 3.23679243 3.17332591 3.10985939 3.04639288 2.98292636 2.91945984\n",
      " 2.85599332 2.7925268  2.72906028 2.66559377 2.60212725 2.53866073\n",
      " 2.47519421 2.41172769 2.34826118 2.28479466 2.22132814 2.15786162\n",
      " 2.0943951  2.03092858 1.96746207 1.90399555 1.84052903 1.77706251\n",
      " 1.71359599 1.65012947 1.58666296 1.52319644 1.45972992 1.3962634\n",
      " 1.33279688 1.26933037 1.20586385 1.14239733 1.07893081 1.01546429\n",
      " 0.95199777 0.88853126 0.82506474 0.76159822 0.6981317  0.63466518\n",
      " 0.57119866 0.50773215 0.44426563 0.38079911 0.31733259 0.25386607\n",
      " 0.19039955 0.12693304 0.06346652 0.        ]\n",
      "[0.76159822 0.82506474 3.87145761 3.93492413]\n"
     ]
    },
    {
     "data": {
      "text/plain": [
       "[<matplotlib.lines.Line2D at 0x11cd52cc0>]"
      ]
     },
     "execution_count": 39,
     "metadata": {},
     "output_type": "execute_result"
    },
    {
     "data": {
      "image/png": "[encoded data removed]",
      "text/plain": [
       "<Figure size 432x288 with 1 Axes>"
      ]
     },
     "metadata": {
      "needs_background": "light"
     },
     "output_type": "display_data"
    }
   ],
   "source": [
    "from math import pi\n",
    "m=np.linspace(0,2*pi,100)\n",
    "\n",
    "#extract every 10th element\n",
    "print(m[9:100:10])\n",
    "#reverse the array    \n",
    "print(m[::-1])\n",
    "#extract element ....\n",
    "mask=(abs(np.sin(m)-np.cos(m))<0.1)\n",
    "sincos=m[mask]\n",
    "print(sincos)\n",
    "#plot\n",
    "plt.plot(m, np.sin(m), 'r')\n",
    "plt.plot(m, np.cos(m), 'g')\n",
    "plt.plot(sincos, np.sin(sincos), 'ro')\n",
    "plt.plot(sincos, np.cos(sincos), 'go')"
   ]
  },
  {
   "cell_type": "markdown",
   "metadata": {},
   "source": [
    "5\\. Create a matrix that shows the 10 by 10 multiplication table.\n",
    "\n",
    " * Find the trace of the matrix\n",
    " * Extract the anto-diagonal (this should be ```array([10, 18, 24, 28, 30, 30, 28, 24, 18, 10])```)\n",
    " * Extract the diagnoal offset by 1 upwards (this should be ```array([ 2,  6, 12, 20, 30, 42, 56, 72, 90])```)"
   ]
  },
  {
   "cell_type": "code",
   "execution_count": 55,
   "metadata": {},
   "outputs": [
    {
     "name": "stdout",
     "output_type": "stream",
     "text": [
      "[[  1   2   3   4   5   6   7   8   9  10]\n",
      " [  2   4   6   8  10  12  14  16  18  20]\n",
      " [  3   6   9  12  15  18  21  24  27  30]\n",
      " [  4   8  12  16  20  24  28  32  36  40]\n",
      " [  5  10  15  20  25  30  35  40  45  50]\n",
      " [  6  12  18  24  30  36  42  48  54  60]\n",
      " [  7  14  21  28  35  42  49  56  63  70]\n",
      " [  8  16  24  32  40  48  56  64  72  80]\n",
      " [  9  18  27  36  45  54  63  72  81  90]\n",
      " [ 10  20  30  40  50  60  70  80  90 100]]\n",
      "[10, 18, 24, 28, 30, 30, 28, 24, 18, 10]\n",
      "[ 2  6 12 20 30 42 56 72 90]\n"
     ]
    }
   ],
   "source": [
    "molt=np.array([i*j for i in range(1,11) for j in range(1,11)]).reshape(10,10)\n",
    "print(molt)\n",
    "\n",
    "#extract anti-diagonal\n",
    "anti_diag=([ molt[i,9-i] for i in range(10)])\n",
    "print(anti_diag)\n",
    "\n",
    "#extract diagonal...\n",
    "diag_off=np.diagonal(molt[:,1:10])\n",
    "print(diag_off)"
   ]
  },
  {
   "cell_type": "markdown",
   "metadata": {},
   "source": [
    "6\\. Use broadcasting to create a grid of distances\n",
    "\n",
    "Route 66 crosses the following cities in the US: Chicago, Springfield, Saint-Louis, Tulsa, Oklahoma City, Amarillo, Santa Fe, Albuquerque, Flagstaff, Los Angeles\n",
    "The corresponding positions in miles are: 0, 198, 303, 736, 871, 1175, 1475, 1544, 1913, 2448\n",
    "\n",
    "  * Construct a 2D grid of distances among each city along Route 66\n",
    "  * Convert that in km (those savages...)"
   ]
  },
  {
   "cell_type": "code",
   "execution_count": 114,
   "metadata": {},
   "outputs": [
    {
     "name": "stdout",
     "output_type": "stream",
     "text": [
      "[['*' 'Ch' 'Sp' 'SL' 'Tu' 'OC' 'Am' 'SF' 'Al' 'Fl' 'LA']\n",
      " ['Ch' '0' '198' '303' '736' '871' '1175' '1475' '1544' '1913' '2448']\n",
      " ['Sp' '198' '0' '105' '538' '673' '977' '1277' '1346' '1715' '2250']\n",
      " ['SL' '303' '105' '0' '433' '568' '872' '1172' '1241' '1610' '2145']\n",
      " ['Tu' '736' '538' '433' '0' '135' '439' '739' '808' '1177' '1712']\n",
      " ['OC' '871' '673' '568' '135' '0' '304' '604' '673' '1042' '1577']\n",
      " ['Am' '1175' '977' '872' '439' '304' '0' '300' '369' '738' '1273']\n",
      " ['SF' '1475' '1277' '1172' '739' '604' '300' '0' '69' '438' '973']\n",
      " ['Al' '1544' '1346' '1241' '808' '673' '369' '69' '0' '369' '904']\n",
      " ['Fl' '1913' '1715' '1610' '1177' '1042' '738' '438' '369' '0' '535']\n",
      " ['LA' '2448' '2250' '2145' '1712' '1577' '1273' '973' '904' '535' '0']]\n",
      "[['*' 'Ch' 'Sp' 'SL' 'Tu' 'OC' 'Am' 'SF' 'Al' 'Fl' 'LA']\n",
      " ['Ch' '0.0' '316.8' '484.8' '1177.6000000000001' '1393.6000000000001'\n",
      "  '1880.0' '2360.0' '2470.4' '3060.8' '3916.8']\n",
      " ['Sp' '316.8' '0.0' '168.0' '860.8000000000001' '1076.8' '1563.2'\n",
      "  '2043.2' '2153.6' '2744.0' '3600.0']\n",
      " ['SL' '484.8' '168.0' '0.0' '692.8000000000001' '908.8000000000001'\n",
      "  '1395.2' '1875.2' '1985.6000000000001' '2576.0' '3432.0']\n",
      " ['Tu' '1177.6000000000001' '860.8000000000001' '692.8000000000001' '0.0'\n",
      "  '216.0' '702.4000000000001' '1182.4' '1292.8000000000002' '1883.2'\n",
      "  '2739.2000000000003']\n",
      " ['OC' '1393.6000000000001' '1076.8' '908.8000000000001' '216.0' '0.0'\n",
      "  '486.40000000000003' '966.4000000000001' '1076.8' '1667.2'\n",
      "  '2523.2000000000003']\n",
      " ['Am' '1880.0' '1563.2' '1395.2' '702.4000000000001'\n",
      "  '486.40000000000003' '0.0' '480.0' '590.4' '1180.8'\n",
      "  '2036.8000000000002']\n",
      " ['SF' '2360.0' '2043.2' '1875.2' '1182.4' '966.4000000000001' '480.0'\n",
      "  '0.0' '110.4' '700.8000000000001' '1556.8000000000002']\n",
      " ['Al' '2470.4' '2153.6' '1985.6000000000001' '1292.8000000000002'\n",
      "  '1076.8' '590.4' '110.4' '0.0' '590.4' '1446.4']\n",
      " ['Fl' '3060.8' '2744.0' '2576.0' '1883.2' '1667.2' '1180.8'\n",
      "  '700.8000000000001' '590.4' '0.0' '856.0']\n",
      " ['LA' '3916.8' '3600.0' '3432.0' '2739.2000000000003'\n",
      "  '2523.2000000000003' '2036.8000000000002' '1556.8000000000002' '1446.4'\n",
      "  '856.0' '0.0']]\n"
     ]
    }
   ],
   "source": [
    "city=np.array(['*','Ch', 'Sp', 'SL', 'Tu', 'OC', 'Am', 'SF', 'Al', 'Fl', 'LA'])\n",
    "km=np.array([0,198,303,736,871,1175,1475,1544,1913,2448])\n",
    "\n",
    "dist=np.absolute(km.reshape(10,1)-km.reshape(1,10))\n",
    "\n",
    "crosses_km=np.hstack((city.reshape(11,1),np.vstack((city[1:11].reshape(1,10),dist))))\n",
    "print(crosses)\n",
    "\n",
    "crosses_miles=np.hstack((city.reshape(11,1),np.vstack((city[1:11].reshape(1,10),dist*1.6))))\n",
    "print(crosses_miles)"
   ]
  },
  {
   "cell_type": "markdown",
   "metadata": {},
   "source": [
    "7\\. Prime numbers sieve: compute the prime numbers in the 0-N (N=99 to start with) range with a sieve (mask).\n",
    "  * Constract a shape (100,) boolean array, the mask\n",
    "  * Identify the multiples of each number starting from 2 and set accordingly the corresponding mask element\n",
    "  * Apply the mask to obtain an array of ordered prime numbers\n",
    "  * Check the performances (timeit); how does it scale with N?\n",
    "  * Implement the optimization suggested in the [sieve of Eratosthenes](https://en.wikipedia.org/wiki/Sieve_of_Eratosthenes)"
   ]
  },
  {
   "cell_type": "code",
   "execution_count": 156,
   "metadata": {},
   "outputs": [
    {
     "data": {
      "image/png": "[encoded data removed]",
      "text/plain": [
       "<Figure size 432x288 with 1 Axes>"
      ]
     },
     "metadata": {
      "needs_background": "light"
     },
     "output_type": "display_data"
    }
   ],
   "source": [
    "import time\n",
    "\n",
    "def prime(N):\n",
    "    mask=np.array([True for i in range(N)])\n",
    "    numbers=np.arange(N)\n",
    "    for i in range(2,N):\n",
    "        for j in range(2,N):\n",
    "            #se numbers[j] è divisibile per un numero diverso da 1 o se stesso allora non è primo\n",
    "            if numbers[i]!=numbers[j] and numbers[i]%numbers[j]==0: mask[i]=False             \n",
    "    return numbers[mask]\n",
    "\n",
    "#time\n",
    "timeres=np.zeros((10,2))\n",
    "j=0\n",
    "for i in range(10,110,10):\n",
    "    start_time = time.process_time()\n",
    "    prime(10*i)\n",
    "    timeres[j,0]=i*10\n",
    "    timeres[j,1]=time.process_time() - start_time\n",
    "    j +=1\n",
    "    \n",
    "plt.plot(timeres[:,0], timeres[:,1], 'r*')\n",
    "plt.xlabel('N')\n",
    "plt.ylabel('Time (seconds)')\n",
    "plt.show()"
   ]
  },
  {
   "cell_type": "code",
   "execution_count": null,
   "metadata": {},
   "outputs": [],
   "source": [
    "def Erat(N):\n",
    "    "
   ]
  },
  {
   "cell_type": "markdown",
   "metadata": {},
   "source": [
    "8\\. Diffusion using random walk\n",
    "\n",
    "Consider a simple random walk process: at each step in time, a walker jumps right or left (+1 or -1) with equal probability. The goal is to find the typical distance from the origin of a random walker after a given amount of time. \n",
    "To do that, let's simulate many walkers and create a 2D array with each walker as a raw and the actual time evolution as columns\n",
    "\n",
    "  * Take 1000 walkers and let them walk for 200 steps\n",
    "  * Use randint to create a 2D array of size walkers x steps with values -1 or 1\n",
    "  * Build the actual walking distances for each walker (i.e. another 2D array \"summing on each raw\")\n",
    "  * Take the square of that 2D array (elementwise)\n",
    "  * Compute the mean of the squared distances at each step (i.e. the mean along the columns)\n",
    "  * Plot the average distances (sqrt(distance\\*\\*2)) as a function of time (step)\n",
    "  \n",
    "Did you get what you expected?"
   ]
  },
  {
   "cell_type": "code",
   "execution_count": null,
   "metadata": {},
   "outputs": [],
   "source": []
  },
  {
   "cell_type": "markdown",
   "metadata": {},
   "source": [
    "9\\. Analyze a data file \n",
    "  * Download the population of hares, lynxes and carrots at the beginning of the last century.\n",
    "    ```python\n",
    "    ! wget https://www.dropbox.com/s/3vigxoqayo389uc/populations.txt\n",
    "    ```\n",
    "\n",
    "  * Check the content by looking within the file\n",
    "  * Load the data (use an appropriate numpy method) into a 2D array\n",
    "  * Create arrays out of the columns, the arrays being (in order): *year*, *hares*, *lynxes*, *carrots* \n",
    "  * Plot the 3 populations over the years\n",
    "  * Compute the main statistical properties of the dataset (mean, std, correlations, etc.)\n",
    "  * Which species has the highest population each year?\n",
    "\n",
    "Do you feel there is some evident correlation here? [Studies](https://www.enr.gov.nt.ca/en/services/lynx/lynx-snowshoe-hare-cycle) tend to believe so."
   ]
  },
  {
   "cell_type": "code",
   "execution_count": null,
   "metadata": {
    "collapsed": true
   },
   "outputs": [],
   "source": []
  }
 ],
 "metadata": {
  "kernelspec": {
   "display_name": "Python 3",
   "language": "python",
   "name": "python3"
  },
  "language_info": {
   "codemirror_mode": {
    "name": "ipython",
    "version": 3
   },
   "file_extension": ".py",
   "mimetype": "text/x-python",
   "name": "python",
   "nbconvert_exporter": "python",
   "pygments_lexer": "ipython3",
   "version": "3.7.0"
  }
 },
 "nbformat": 4,
 "nbformat_minor": 2
}
